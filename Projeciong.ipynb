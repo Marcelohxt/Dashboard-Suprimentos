{
 "cells": [
  {
   "cell_type": "markdown",
   "id": "ae149791-c29b-412a-9793-2e0ceac551b6",
   "metadata": {},
   "source": [
    "# <font color='blue'>Data Science Analysis Supriments </font>\n",
    "# <font color='blue'>Análise de Dados com Linguagem Python</font>\n",
    "\n",
    "## <font color='blue'>Análise de Dados Para Suprimentos</font>"
   ]
  },
  {
   "cell_type": "markdown",
   "id": "1b7642e2-6d42-48dd-a3f5-359e28c172b7",
   "metadata": {},
   "source": [
    "## Instalando e Carregando os Pacotes"
   ]
  },
  {
   "cell_type": "code",
   "execution_count": 504,
   "id": "ff00849a-8b3c-4acd-ad24-2053aef5284c",
   "metadata": {},
   "outputs": [],
   "source": [
    "# Imports\n",
    "import math\n",
    "import sys, os\n",
    "import matplotlib.pyplot as plt\n",
    "import numpy as np\n",
    "import pandas as pd\n",
    "import watermark \n",
    "import seaborn as sns\n",
    "import warnings\n",
    "warnings.filterwarnings(\"ignore\") "
   ]
  },
  {
   "cell_type": "code",
   "execution_count": 505,
   "id": "e5dc798f-a4d8-42bc-bedf-fd7348cdc432",
   "metadata": {},
   "outputs": [],
   "source": [
    "sys.path.append(os.path.abspath(os.path.join('modulos')))\n",
    "from estrategia1 import *\n",
    "from estrategia2 import *\n",
    "from estrategia3 import *"
   ]
  },
  {
   "cell_type": "code",
   "execution_count": 506,
   "id": "282f360c-06df-4c1f-b6ba-c44c7a22d458",
   "metadata": {},
   "outputs": [],
   "source": [
    "# Created file the all libery the project\n",
    "!pip freeze > requirements.txt"
   ]
  },
  {
   "cell_type": "code",
   "execution_count": 507,
   "id": "e54925e4-6eef-4959-8d00-9977dfd3a6c2",
   "metadata": {},
   "outputs": [
    {
     "name": "stdout",
     "output_type": "stream",
     "text": [
      "Author: Marcelo Henrique\n",
      "\n",
      "seaborn   : 0.13.2\n",
      "ipywidgets: 8.1.2\n",
      "sys       : 3.8.20 (default, Oct  3 2024, 15:19:54) [MSC v.1929 64 bit (AMD64)]\n",
      "json      : 2.0.9\n",
      "matplotlib: 3.7.2\n",
      "watermark : 2.5.0\n",
      "pandas    : 2.0.3\n",
      "IPython   : 8.12.2\n",
      "numpy     : 1.24.3\n",
      "\n"
     ]
    }
   ],
   "source": [
    "# Versões dos pacotes usados neste jupyter notebook\n",
    "%reload_ext watermark\n",
    "%watermark -a \"Marcelo Henrique\" --iversions"
   ]
  },
  {
   "cell_type": "markdown",
   "id": "36b96501-8ea0-4bd9-9fad-22b8082de5ac",
   "metadata": {},
   "source": [
    "### Carregando DFs"
   ]
  },
  {
   "cell_type": "code",
   "execution_count": 545,
   "id": "a8fc7b36-3b27-430d-a144-b2c443993587",
   "metadata": {},
   "outputs": [],
   "source": [
    "#AnaliseSupriSLA1Trimestre_025 = pd.read_excel(\"dados/AnaliseSupriSLA1Trimestre_025.xlsx\")\n",
    "#BasePorInsumo = pd.read_excel(\"dados/BasePorInsumo.xls\")\n",
    "#CustoPorNivel = pd.read_excel(\"dados/CustoPorNivel.xls\")\n",
    "#RelatorioDeSolicitacoes = pd.read_excel(\"dados/RelatorioDeSolicitacoes.xls\")\n",
    "#RelatorioMapaControlePedidosDanfes_entrada = pd.read_excel(\"dados/RelatorioMapaControlePedidosDanfes_entrada.xls\")\n",
    "#RelatorioSaldoDePedidos_fatDireto_obra_52010_VA =pd.read_excel(\"dados/RelatorioSaldoDePedidos_fatDireto_obra_52010_VA.xls\")\n"
   ]
  },
  {
   "cell_type": "markdown",
   "id": "997a9fbb-0d97-40e9-b628-8b38d26177a4",
   "metadata": {},
   "source": [
    "## Análise Exploratória"
   ]
  },
  {
   "cell_type": "code",
   "execution_count": 548,
   "id": "2a46240a-43be-4a2f-8a8b-2d3f21816b9c",
   "metadata": {},
   "outputs": [
    {
     "name": "stdout",
     "output_type": "stream",
     "text": [
      "DataFrames carregados: ['AnaliseSupriSLA1Trimestre_025', 'BasePorInsumo', 'CustoPorNivel', 'RelatorioDeSolicitacoes', 'RelatorioMapaControlePedidosDanfes_entrada', 'RelatorioSaldoDePedidosFatDireto52010', '_90', '_92', '_94', '_96', '_101', '_108', '_119', '_123', '_125', '_127', '_129', '_131', '_133', '_137', '_139', '_141', '_147', '_149', '_153', 'df', '_185', '_187', '_189', '_191', '_193', '_195', '_200', '_276', '_278', '_280', '_282', '_284', '_286', '_291', '_378', '_383', '_430', '_459', '_463']\n"
     ]
    }
   ],
   "source": [
    "# Aqui estamos chamando todos os nomes dos df para facilitar! \n",
    "# Filtrar variáveis que são DataFrames\n",
    "dfs = {var: obj for var, obj in globals().items() if isinstance(obj, pd.DataFrame)}\n",
    "\n",
    "# Exibir os nomes dos DataFrames carregados\n",
    "print(\"DataFrames carregados:\", list(dfs.keys()))"
   ]
  },
  {
   "cell_type": "code",
   "execution_count": 549,
   "id": "a5c8a921-6119-4d51-8897-f3084098e63b",
   "metadata": {},
   "outputs": [],
   "source": [
    "## Salvando o df original na variavel df! \n",
    "df = pd.read_csv(\"dados/AnaliseSupriSLA1Trimestre_025.csv\", sep=\";\")  # Ou tente sep=\",\" ou sep=\"\\t\"\n",
    "\n"
   ]
  },
  {
   "cell_type": "code",
   "execution_count": 550,
   "id": "1c83db32-8315-4743-b280-7ec4d66145b5",
   "metadata": {},
   "outputs": [
    {
     "data": {
      "text/plain": [
       "Insumo                 0\n",
       "Obra                   0\n",
       "Data                   0\n",
       "Solicitante            0\n",
       "Solicitação            0\n",
       "Aut.                   0\n",
       "Dt. aut               25\n",
       "Qt. pendente           0\n",
       "Un.                    0\n",
       "Qt. atendida           0\n",
       "Sd.                    0\n",
       "Dt. previsão           0\n",
       "Dt. atend.            48\n",
       "Diferença              0\n",
       "Sla Atendimentos      23\n",
       "Aditivo               48\n",
       "Depto solicitante     25\n",
       "Dentro do prazo       15\n",
       "Fora do prazo        206\n",
       "dtype: int64"
      ]
     },
     "execution_count": 550,
     "metadata": {},
     "output_type": "execute_result"
    }
   ],
   "source": [
    "df.isna().sum()"
   ]
  },
  {
   "cell_type": "code",
   "execution_count": 551,
   "id": "bd7fdf59-ea74-4a60-82c4-b5c69003ff69",
   "metadata": {},
   "outputs": [
    {
     "name": "stdout",
     "output_type": "stream",
     "text": [
      "<class 'pandas.core.frame.DataFrame'>\n",
      "RangeIndex: 221 entries, 0 to 220\n",
      "Data columns (total 19 columns):\n",
      " #   Column             Non-Null Count  Dtype  \n",
      "---  ------             --------------  -----  \n",
      " 0   Insumo             221 non-null    object \n",
      " 1   Obra               221 non-null    object \n",
      " 2   Data               221 non-null    object \n",
      " 3   Solicitante        221 non-null    object \n",
      " 4   Solicitação        221 non-null    int64  \n",
      " 5   Aut.               221 non-null    object \n",
      " 6   Dt. aut            196 non-null    object \n",
      " 7   Qt. pendente       221 non-null    object \n",
      " 8   Un.                221 non-null    object \n",
      " 9   Qt. atendida       221 non-null    object \n",
      " 10  Sd.                221 non-null    object \n",
      " 11  Dt. previsão       221 non-null    object \n",
      " 12  Dt. atend.         173 non-null    object \n",
      " 13  Diferença          221 non-null    int64  \n",
      " 14  Sla Atendimentos   198 non-null    float64\n",
      " 15  Aditivo            173 non-null    object \n",
      " 16  Depto solicitante  196 non-null    object \n",
      " 17  Dentro do prazo    206 non-null    object \n",
      " 18  Fora do prazo      15 non-null     object \n",
      "dtypes: float64(1), int64(2), object(16)\n",
      "memory usage: 32.9+ KB\n"
     ]
    }
   ],
   "source": [
    "df.info()"
   ]
  },
  {
   "cell_type": "code",
   "execution_count": 552,
   "id": "3084f26d-f402-4e6a-9736-37f36c5c0413",
   "metadata": {},
   "outputs": [
    {
     "data": {
      "text/html": [
       "<div>\n",
       "<style scoped>\n",
       "    .dataframe tbody tr th:only-of-type {\n",
       "        vertical-align: middle;\n",
       "    }\n",
       "\n",
       "    .dataframe tbody tr th {\n",
       "        vertical-align: top;\n",
       "    }\n",
       "\n",
       "    .dataframe thead th {\n",
       "        text-align: right;\n",
       "    }\n",
       "</style>\n",
       "<table border=\"1\" class=\"dataframe\">\n",
       "  <thead>\n",
       "    <tr style=\"text-align: right;\">\n",
       "      <th></th>\n",
       "      <th>Solicitação</th>\n",
       "      <th>Diferença</th>\n",
       "      <th>Sla Atendimentos</th>\n",
       "    </tr>\n",
       "  </thead>\n",
       "  <tbody>\n",
       "    <tr>\n",
       "      <th>count</th>\n",
       "      <td>221.000000</td>\n",
       "      <td>221.000000</td>\n",
       "      <td>198.000000</td>\n",
       "    </tr>\n",
       "    <tr>\n",
       "      <th>mean</th>\n",
       "      <td>2342.398190</td>\n",
       "      <td>7.728507</td>\n",
       "      <td>2.489899</td>\n",
       "    </tr>\n",
       "    <tr>\n",
       "      <th>std</th>\n",
       "      <td>75.189728</td>\n",
       "      <td>13.579682</td>\n",
       "      <td>1.932201</td>\n",
       "    </tr>\n",
       "    <tr>\n",
       "      <th>min</th>\n",
       "      <td>2211.000000</td>\n",
       "      <td>0.000000</td>\n",
       "      <td>0.000000</td>\n",
       "    </tr>\n",
       "    <tr>\n",
       "      <th>25%</th>\n",
       "      <td>2278.000000</td>\n",
       "      <td>0.000000</td>\n",
       "      <td>1.000000</td>\n",
       "    </tr>\n",
       "    <tr>\n",
       "      <th>50%</th>\n",
       "      <td>2342.000000</td>\n",
       "      <td>4.000000</td>\n",
       "      <td>3.000000</td>\n",
       "    </tr>\n",
       "    <tr>\n",
       "      <th>75%</th>\n",
       "      <td>2407.000000</td>\n",
       "      <td>9.000000</td>\n",
       "      <td>3.000000</td>\n",
       "    </tr>\n",
       "    <tr>\n",
       "      <th>max</th>\n",
       "      <td>2470.000000</td>\n",
       "      <td>74.000000</td>\n",
       "      <td>15.000000</td>\n",
       "    </tr>\n",
       "  </tbody>\n",
       "</table>\n",
       "</div>"
      ],
      "text/plain": [
       "       Solicitação   Diferença  Sla Atendimentos\n",
       "count   221.000000  221.000000        198.000000\n",
       "mean   2342.398190    7.728507          2.489899\n",
       "std      75.189728   13.579682          1.932201\n",
       "min    2211.000000    0.000000          0.000000\n",
       "25%    2278.000000    0.000000          1.000000\n",
       "50%    2342.000000    4.000000          3.000000\n",
       "75%    2407.000000    9.000000          3.000000\n",
       "max    2470.000000   74.000000         15.000000"
      ]
     },
     "execution_count": 552,
     "metadata": {},
     "output_type": "execute_result"
    }
   ],
   "source": [
    "df.describe()"
   ]
  },
  {
   "cell_type": "code",
   "execution_count": 589,
   "id": "2b5ad138-3826-43ae-945b-c128e9e4d88a",
   "metadata": {},
   "outputs": [],
   "source": [
    "df.columns = (df.columns\n",
    "              .str.strip()  # Remove espaços extras no início e no fim\n",
    "              .str.replace(r\"[.\\s]\", \"_\", regex=True)  # Substitui pontos e espaços por \"_\"\n",
    "              .str.lower()  # Converte para minúsculas\n",
    "             )"
   ]
  },
  {
   "cell_type": "code",
   "execution_count": 591,
   "id": "8f08cf7c-dd89-4fc2-8fb8-b053d5739162",
   "metadata": {},
   "outputs": [],
   "source": [
    "df = df.applymap(lambda x: x.strip() if isinstance(x, str) else x)\n"
   ]
  },
  {
   "cell_type": "code",
   "execution_count": 592,
   "id": "884fbeb4-c5aa-479e-b57a-c4ea6892d763",
   "metadata": {},
   "outputs": [
    {
     "data": {
      "text/plain": [
       "Index(['insumo', 'obra', 'data', 'solicitante', 'solicitação', 'aut_',\n",
       "       'dt__aut', 'qt__pendente', 'un_', 'qt__atendida', 'sd_', 'dt__previsão',\n",
       "       'dt__atend_', 'diferença', 'sla_atendimentos', 'aditivo',\n",
       "       'depto_solicitante', 'dentro_do_prazo', 'fora_do_prazo'],\n",
       "      dtype='object')"
      ]
     },
     "execution_count": 592,
     "metadata": {},
     "output_type": "execute_result"
    }
   ],
   "source": [
    "df.columns"
   ]
  },
  {
   "cell_type": "markdown",
   "id": "af4fc97c-0695-4ccb-a72d-f9b0622fcfba",
   "metadata": {},
   "source": [
    "### Tratamento da Coluna \"dt__aut\""
   ]
  },
  {
   "cell_type": "code",
   "execution_count": 596,
   "id": "d240dfc3-9076-46c3-ada3-d66ba3513785",
   "metadata": {},
   "outputs": [
    {
     "data": {
      "text/plain": [
       "11.312217194570136"
      ]
     },
     "execution_count": 596,
     "metadata": {},
     "output_type": "execute_result"
    }
   ],
   "source": [
    "df.dt__aut.isnull().mean()*100"
   ]
  },
  {
   "cell_type": "code",
   "execution_count": 597,
   "id": "5877c70e-59b2-4a91-a4d8-3314bddd2d99",
   "metadata": {},
   "outputs": [],
   "source": [
    "convert_to_datetime(df, [\"dt__aut\"])"
   ]
  },
  {
   "cell_type": "code",
   "execution_count": 600,
   "id": "3086fb8c-1fe9-4b2c-a105-cd29e1846990",
   "metadata": {
    "scrolled": true
   },
   "outputs": [
    {
     "data": {
      "text/plain": [
       "dt__aut\n",
       "2025-02-25    18\n",
       "2025-02-04    17\n",
       "2025-01-28    16\n",
       "2025-03-07    15\n",
       "2025-03-20    15\n",
       "2025-02-11    12\n",
       "2025-03-17    11\n",
       "2025-03-11     9\n",
       "2025-01-24     9\n",
       "2025-01-16     9\n",
       "2025-01-29     6\n",
       "2025-01-23     6\n",
       "2025-02-05     5\n",
       "2025-02-26     5\n",
       "2025-02-19     5\n",
       "2025-03-12     4\n",
       "2025-02-17     3\n",
       "2025-01-14     3\n",
       "2025-03-13     3\n",
       "2025-02-21     3\n",
       "2025-02-14     3\n",
       "2025-02-13     3\n",
       "2025-03-14     2\n",
       "2025-02-24     2\n",
       "2025-03-18     2\n",
       "2025-01-13     2\n",
       "2025-03-10     1\n",
       "2025-01-08     1\n",
       "2025-02-10     1\n",
       "2025-01-21     1\n",
       "2025-03-19     1\n",
       "2025-03-06     1\n",
       "2025-01-20     1\n",
       "2025-01-31     1\n",
       "Name: count, dtype: int64"
      ]
     },
     "execution_count": 600,
     "metadata": {},
     "output_type": "execute_result"
    }
   ],
   "source": [
    "df.dt__aut.value_counts()"
   ]
  },
  {
   "cell_type": "code",
   "execution_count": 560,
   "id": "1a225f20-4b1b-45a1-bed3-eb754ff4d5fc",
   "metadata": {},
   "outputs": [
    {
     "data": {
      "text/plain": [
       "0   2025-02-25\n",
       "Name: dt__aut, dtype: datetime64[ns]"
      ]
     },
     "execution_count": 560,
     "metadata": {},
     "output_type": "execute_result"
    }
   ],
   "source": [
    "df.dt__aut.mode()"
   ]
  },
  {
   "cell_type": "markdown",
   "id": "b926c9d5-e55b-4de9-b0d8-e29175a8d939",
   "metadata": {},
   "source": [
    "### Realização de imputação com a Moda/ pois pegamos a media que as informações apareceram o colocamos a moda! "
   ]
  },
  {
   "cell_type": "code",
   "execution_count": 602,
   "id": "17ddcd1b-841d-45ac-8597-81e69f2e28b6",
   "metadata": {},
   "outputs": [
    {
     "data": {
      "text/plain": [
       "25"
      ]
     },
     "execution_count": 602,
     "metadata": {},
     "output_type": "execute_result"
    }
   ],
   "source": [
    "df.dt__aut.isna().sum()"
   ]
  },
  {
   "cell_type": "code",
   "execution_count": 604,
   "id": "8630f81d-ed36-4b80-9663-84363167272c",
   "metadata": {},
   "outputs": [
    {
     "name": "stdout",
     "output_type": "stream",
     "text": [
      "Index(['insumo', 'obra', 'data', 'solicitante', 'solicitação', 'aut_',\n",
      "       'dt__aut', 'qt__pendente', 'un_', 'qt__atendida', 'sd_', 'dt__previsão',\n",
      "       'dt__atend_', 'diferença', 'sla_atendimentos', 'aditivo',\n",
      "       'depto_solicitante', 'dentro_do_prazo', 'fora_do_prazo'],\n",
      "      dtype='object')\n"
     ]
    }
   ],
   "source": [
    "print(df.columns)"
   ]
  },
  {
   "cell_type": "markdown",
   "id": "9170a0f0-989e-46fc-bd68-05873fecdb08",
   "metadata": {},
   "source": [
    "## Tratando Variavel \"dt__atend_\""
   ]
  },
  {
   "cell_type": "code",
   "execution_count": 607,
   "id": "2993e33b-cae2-4f18-b2ac-d032d8406f92",
   "metadata": {},
   "outputs": [
    {
     "data": {
      "text/plain": [
       "48"
      ]
     },
     "execution_count": 607,
     "metadata": {},
     "output_type": "execute_result"
    }
   ],
   "source": [
    "df.dt__atend_.isna().sum() # COntando Valores Ausentes "
   ]
  },
  {
   "cell_type": "code",
   "execution_count": 608,
   "id": "c6fef98f-22b7-4516-bc51-fbee1ee7af8d",
   "metadata": {},
   "outputs": [
    {
     "data": {
      "text/plain": [
       "21.71945701357466"
      ]
     },
     "execution_count": 608,
     "metadata": {},
     "output_type": "execute_result"
    }
   ],
   "source": [
    "df.dt__atend_.isnull().mean()*100  #Porcentagem de valores ausentes"
   ]
  },
  {
   "cell_type": "code",
   "execution_count": 609,
   "id": "0138752e-23db-4e8e-a4f1-5c33c54d117a",
   "metadata": {},
   "outputs": [
    {
     "data": {
      "text/plain": [
       "0    28/02/2025\n",
       "1    26/02/2025\n",
       "Name: dt__atend_, dtype: object"
      ]
     },
     "execution_count": 609,
     "metadata": {},
     "output_type": "execute_result"
    }
   ],
   "source": [
    "df.dt__atend_.head(2)"
   ]
  },
  {
   "cell_type": "code",
   "execution_count": 610,
   "id": "79fc258a-5afb-4249-91ee-eb6b8963829a",
   "metadata": {},
   "outputs": [
    {
     "data": {
      "text/plain": [
       "0    03/02/2025\n",
       "Name: dt__atend_, dtype: object"
      ]
     },
     "execution_count": 610,
     "metadata": {},
     "output_type": "execute_result"
    }
   ],
   "source": [
    "df.dt__atend_.mode()"
   ]
  },
  {
   "cell_type": "markdown",
   "id": "1c91f69d-7fd9-4a42-b0d2-e137d3a2301b",
   "metadata": {},
   "source": [
    "### Realização de imputação com a Moda/ pois pegamos a media que as informações apareceram o colocamos a moda! "
   ]
  },
  {
   "cell_type": "code",
   "execution_count": 612,
   "id": "3098c316-7d47-489d-be64-7042ba2d3ec3",
   "metadata": {},
   "outputs": [],
   "source": [
    "# Imputação com a moda\n",
    "df.dt__atend_.fillna(\"03/02/2025\", inplace = True)"
   ]
  },
  {
   "cell_type": "markdown",
   "id": "8205adb7-67ea-46b7-aa0a-43e807127e83",
   "metadata": {},
   "source": [
    "## Tratando variavel \"sla_atendimentos\""
   ]
  },
  {
   "cell_type": "code",
   "execution_count": 614,
   "id": "91ba6cc9-9d61-4c97-a486-90f38222f711",
   "metadata": {},
   "outputs": [
    {
     "data": {
      "text/plain": [
       "23"
      ]
     },
     "execution_count": 614,
     "metadata": {},
     "output_type": "execute_result"
    }
   ],
   "source": [
    "df.sla_atendimentos.isna().sum()"
   ]
  },
  {
   "cell_type": "code",
   "execution_count": 615,
   "id": "42bdae65-94e5-4a93-9b9b-6268344397cc",
   "metadata": {},
   "outputs": [
    {
     "data": {
      "text/plain": [
       "dtype('float64')"
      ]
     },
     "execution_count": 615,
     "metadata": {},
     "output_type": "execute_result"
    }
   ],
   "source": [
    "df.sla_atendimentos.dtype"
   ]
  },
  {
   "cell_type": "code",
   "execution_count": 616,
   "id": "8d0b58a3-4c6a-4c1e-b817-23000ee29724",
   "metadata": {},
   "outputs": [
    {
     "data": {
      "text/plain": [
       "0    3.0\n",
       "1    5.0\n",
       "2    4.0\n",
       "3    2.0\n",
       "4    1.0\n",
       "Name: sla_atendimentos, dtype: float64"
      ]
     },
     "execution_count": 616,
     "metadata": {},
     "output_type": "execute_result"
    }
   ],
   "source": [
    "df.sla_atendimentos.head()"
   ]
  },
  {
   "cell_type": "markdown",
   "id": "9d01bec4-258f-44c0-b6ad-3673f292d329",
   "metadata": {},
   "source": [
    "## Valores ausentes na coluna ['sla_atendimentos'] foram substituídos por seu valor de mediana sla_atendimentos    3.0"
   ]
  },
  {
   "cell_type": "code",
   "execution_count": 618,
   "id": "344794b3-957c-422a-89ad-f802982b45bf",
   "metadata": {},
   "outputs": [
    {
     "name": "stdout",
     "output_type": "stream",
     "text": [
      "sla_atendimentos    23\n",
      "dtype: int64 valores ausentes na coluna ['sla_atendimentos'] foram substituídos por seu valor de mediana sla_atendimentos    3.0\n",
      "dtype: float64.\n"
     ]
    },
    {
     "data": {
      "text/html": [
       "<div>\n",
       "<style scoped>\n",
       "    .dataframe tbody tr th:only-of-type {\n",
       "        vertical-align: middle;\n",
       "    }\n",
       "\n",
       "    .dataframe tbody tr th {\n",
       "        vertical-align: top;\n",
       "    }\n",
       "\n",
       "    .dataframe thead th {\n",
       "        text-align: right;\n",
       "    }\n",
       "</style>\n",
       "<table border=\"1\" class=\"dataframe\">\n",
       "  <thead>\n",
       "    <tr style=\"text-align: right;\">\n",
       "      <th></th>\n",
       "      <th>sla_atendimentos</th>\n",
       "    </tr>\n",
       "  </thead>\n",
       "  <tbody>\n",
       "    <tr>\n",
       "      <th>0</th>\n",
       "      <td>3.0</td>\n",
       "    </tr>\n",
       "    <tr>\n",
       "      <th>1</th>\n",
       "      <td>5.0</td>\n",
       "    </tr>\n",
       "    <tr>\n",
       "      <th>2</th>\n",
       "      <td>4.0</td>\n",
       "    </tr>\n",
       "    <tr>\n",
       "      <th>3</th>\n",
       "      <td>2.0</td>\n",
       "    </tr>\n",
       "    <tr>\n",
       "      <th>4</th>\n",
       "      <td>1.0</td>\n",
       "    </tr>\n",
       "    <tr>\n",
       "      <th>...</th>\n",
       "      <td>...</td>\n",
       "    </tr>\n",
       "    <tr>\n",
       "      <th>216</th>\n",
       "      <td>0.0</td>\n",
       "    </tr>\n",
       "    <tr>\n",
       "      <th>217</th>\n",
       "      <td>3.0</td>\n",
       "    </tr>\n",
       "    <tr>\n",
       "      <th>218</th>\n",
       "      <td>3.0</td>\n",
       "    </tr>\n",
       "    <tr>\n",
       "      <th>219</th>\n",
       "      <td>3.0</td>\n",
       "    </tr>\n",
       "    <tr>\n",
       "      <th>220</th>\n",
       "      <td>0.0</td>\n",
       "    </tr>\n",
       "  </tbody>\n",
       "</table>\n",
       "<p>221 rows × 1 columns</p>\n",
       "</div>"
      ],
      "text/plain": [
       "     sla_atendimentos\n",
       "0                 3.0\n",
       "1                 5.0\n",
       "2                 4.0\n",
       "3                 2.0\n",
       "4                 1.0\n",
       "..                ...\n",
       "216               0.0\n",
       "217               3.0\n",
       "218               3.0\n",
       "219               3.0\n",
       "220               0.0\n",
       "\n",
       "[221 rows x 1 columns]"
      ]
     },
     "execution_count": 618,
     "metadata": {},
     "output_type": "execute_result"
    }
   ],
   "source": [
    "fix_missing_median(df,[\"sla_atendimentos\"])"
   ]
  },
  {
   "cell_type": "code",
   "execution_count": 619,
   "id": "131f40a1-4d97-45e5-982f-a2b6d85de7c4",
   "metadata": {},
   "outputs": [],
   "source": [
    "convert_to_datetime(df, [\"sla_atendimentos\"])"
   ]
  },
  {
   "cell_type": "markdown",
   "id": "fb572379-1b5b-4720-9adc-2df6a0d17501",
   "metadata": {},
   "source": [
    "### Tratamente Variavel \"Aditivo\""
   ]
  },
  {
   "cell_type": "code",
   "execution_count": 621,
   "id": "dcbc61a6-e5a3-4917-abed-c637f425f347",
   "metadata": {},
   "outputs": [
    {
     "data": {
      "text/plain": [
       "48"
      ]
     },
     "execution_count": 621,
     "metadata": {},
     "output_type": "execute_result"
    }
   ],
   "source": [
    "df.aditivo.isna().sum()"
   ]
  },
  {
   "cell_type": "code",
   "execution_count": 622,
   "id": "12ea4494-00de-47bd-b4a7-8c3069f868c4",
   "metadata": {},
   "outputs": [
    {
     "name": "stdout",
     "output_type": "stream",
     "text": [
      "aditivo    48\n",
      "dtype: int64 valores ausentes na coluna ['aditivo'] foram substituídos por Null.\n"
     ]
    },
    {
     "data": {
      "text/html": [
       "<div>\n",
       "<style scoped>\n",
       "    .dataframe tbody tr th:only-of-type {\n",
       "        vertical-align: middle;\n",
       "    }\n",
       "\n",
       "    .dataframe tbody tr th {\n",
       "        vertical-align: top;\n",
       "    }\n",
       "\n",
       "    .dataframe thead th {\n",
       "        text-align: right;\n",
       "    }\n",
       "</style>\n",
       "<table border=\"1\" class=\"dataframe\">\n",
       "  <thead>\n",
       "    <tr style=\"text-align: right;\">\n",
       "      <th></th>\n",
       "      <th>aditivo</th>\n",
       "    </tr>\n",
       "  </thead>\n",
       "  <tbody>\n",
       "    <tr>\n",
       "      <th>0</th>\n",
       "      <td>Não</td>\n",
       "    </tr>\n",
       "    <tr>\n",
       "      <th>1</th>\n",
       "      <td>Sim</td>\n",
       "    </tr>\n",
       "    <tr>\n",
       "      <th>2</th>\n",
       "      <td>Sim</td>\n",
       "    </tr>\n",
       "    <tr>\n",
       "      <th>3</th>\n",
       "      <td>Não</td>\n",
       "    </tr>\n",
       "    <tr>\n",
       "      <th>4</th>\n",
       "      <td>Não</td>\n",
       "    </tr>\n",
       "    <tr>\n",
       "      <th>...</th>\n",
       "      <td>...</td>\n",
       "    </tr>\n",
       "    <tr>\n",
       "      <th>216</th>\n",
       "      <td>Null</td>\n",
       "    </tr>\n",
       "    <tr>\n",
       "      <th>217</th>\n",
       "      <td>Null</td>\n",
       "    </tr>\n",
       "    <tr>\n",
       "      <th>218</th>\n",
       "      <td>Null</td>\n",
       "    </tr>\n",
       "    <tr>\n",
       "      <th>219</th>\n",
       "      <td>Não</td>\n",
       "    </tr>\n",
       "    <tr>\n",
       "      <th>220</th>\n",
       "      <td>Null</td>\n",
       "    </tr>\n",
       "  </tbody>\n",
       "</table>\n",
       "<p>221 rows × 1 columns</p>\n",
       "</div>"
      ],
      "text/plain": [
       "    aditivo\n",
       "0       Não\n",
       "1       Sim\n",
       "2       Sim\n",
       "3       Não\n",
       "4       Não\n",
       "..      ...\n",
       "216    Null\n",
       "217    Null\n",
       "218    Null\n",
       "219     Não\n",
       "220    Null\n",
       "\n",
       "[221 rows x 1 columns]"
      ]
     },
     "execution_count": 622,
     "metadata": {},
     "output_type": "execute_result"
    }
   ],
   "source": [
    "fix_missing_value(df, [\"aditivo\"], \"Null\")"
   ]
  },
  {
   "cell_type": "code",
   "execution_count": 623,
   "id": "ba7d3b65-4826-4996-84e6-c14c6effa89f",
   "metadata": {},
   "outputs": [],
   "source": [
    "convert_to_string(df, [\"aditivo\"])"
   ]
  },
  {
   "cell_type": "code",
   "execution_count": 624,
   "id": "b5074439-291c-47d8-bd1f-e91cf74b794b",
   "metadata": {},
   "outputs": [
    {
     "data": {
      "text/plain": [
       "0"
      ]
     },
     "execution_count": 624,
     "metadata": {},
     "output_type": "execute_result"
    }
   ],
   "source": [
    "df.aditivo.isna().sum()"
   ]
  },
  {
   "cell_type": "markdown",
   "id": "7aca5e80-a22f-4918-9924-c1634d36bc3e",
   "metadata": {},
   "source": [
    "## Tratamento da Variavel \"Depto solicitante\""
   ]
  },
  {
   "cell_type": "code",
   "execution_count": 626,
   "id": "3671e0f5-5574-4c71-91eb-6967023ac34b",
   "metadata": {},
   "outputs": [
    {
     "data": {
      "text/plain": [
       "25"
      ]
     },
     "execution_count": 626,
     "metadata": {},
     "output_type": "execute_result"
    }
   ],
   "source": [
    "df.depto_solicitante.isna().sum() # Calcula Valor de Numeros ausentes"
   ]
  },
  {
   "cell_type": "code",
   "execution_count": 627,
   "id": "1a18f13d-5c21-4a41-a3cf-dddfe9530bf6",
   "metadata": {},
   "outputs": [
    {
     "data": {
      "text/plain": [
       "11.312217194570136"
      ]
     },
     "execution_count": 627,
     "metadata": {},
     "output_type": "execute_result"
    }
   ],
   "source": [
    "# Calcula o percentual de valores ausentes na variável salary\n",
    "df.depto_solicitante.isnull().mean()*100"
   ]
  },
  {
   "cell_type": "markdown",
   "id": "13f23b19-c89e-45c6-a5c4-09cde8c8ff3c",
   "metadata": {},
   "source": [
    "### O valor da Variavel \"depto_solicitante\" é inferior a 30% entao iremos praticar a imputação de dados no df"
   ]
  },
  {
   "cell_type": "code",
   "execution_count": 629,
   "id": "6204fa24-01e2-4f91-b376-bb3c3b9068d7",
   "metadata": {},
   "outputs": [
    {
     "data": {
      "text/plain": [
       "dtype('O')"
      ]
     },
     "execution_count": 629,
     "metadata": {},
     "output_type": "execute_result"
    }
   ],
   "source": [
    "df.depto_solicitante.dtype"
   ]
  },
  {
   "cell_type": "code",
   "execution_count": 630,
   "id": "ac0d27d7-b3f5-421b-8652-82ea4fac3a4e",
   "metadata": {},
   "outputs": [
    {
     "data": {
      "text/plain": [
       "0                 Engenharia\n",
       "1    Planejamento/orçamentos\n",
       "2                   Juridico\n",
       "3                 Engenharia\n",
       "4                   Produtos\n",
       "Name: depto_solicitante, dtype: object"
      ]
     },
     "execution_count": 630,
     "metadata": {},
     "output_type": "execute_result"
    }
   ],
   "source": [
    "df.depto_solicitante.head(5)"
   ]
  },
  {
   "cell_type": "markdown",
   "id": "278267fe-0253-443b-bfac-bfdfab51d3e1",
   "metadata": {},
   "source": [
    "### Iremos imputar valor NAN para cada linha com valores ausentes pois são variaveis String \"Categorica\" "
   ]
  },
  {
   "cell_type": "code",
   "execution_count": 635,
   "id": "9d9d03ba-32c7-4dd7-a5d8-8b49fdb87db7",
   "metadata": {},
   "outputs": [
    {
     "name": "stdout",
     "output_type": "stream",
     "text": [
      "depto_solicitante    25\n",
      "dtype: int64 valores ausentes na coluna ['depto_solicitante'] foram substituídos por Null.\n"
     ]
    },
    {
     "data": {
      "text/html": [
       "<div>\n",
       "<style scoped>\n",
       "    .dataframe tbody tr th:only-of-type {\n",
       "        vertical-align: middle;\n",
       "    }\n",
       "\n",
       "    .dataframe tbody tr th {\n",
       "        vertical-align: top;\n",
       "    }\n",
       "\n",
       "    .dataframe thead th {\n",
       "        text-align: right;\n",
       "    }\n",
       "</style>\n",
       "<table border=\"1\" class=\"dataframe\">\n",
       "  <thead>\n",
       "    <tr style=\"text-align: right;\">\n",
       "      <th></th>\n",
       "      <th>depto_solicitante</th>\n",
       "    </tr>\n",
       "  </thead>\n",
       "  <tbody>\n",
       "    <tr>\n",
       "      <th>0</th>\n",
       "      <td>Engenharia</td>\n",
       "    </tr>\n",
       "    <tr>\n",
       "      <th>1</th>\n",
       "      <td>Planejamento/orçamentos</td>\n",
       "    </tr>\n",
       "    <tr>\n",
       "      <th>2</th>\n",
       "      <td>Juridico</td>\n",
       "    </tr>\n",
       "    <tr>\n",
       "      <th>3</th>\n",
       "      <td>Engenharia</td>\n",
       "    </tr>\n",
       "    <tr>\n",
       "      <th>4</th>\n",
       "      <td>Produtos</td>\n",
       "    </tr>\n",
       "    <tr>\n",
       "      <th>...</th>\n",
       "      <td>...</td>\n",
       "    </tr>\n",
       "    <tr>\n",
       "      <th>216</th>\n",
       "      <td>Null</td>\n",
       "    </tr>\n",
       "    <tr>\n",
       "      <th>217</th>\n",
       "      <td>Engenharia</td>\n",
       "    </tr>\n",
       "    <tr>\n",
       "      <th>218</th>\n",
       "      <td>Engenharia</td>\n",
       "    </tr>\n",
       "    <tr>\n",
       "      <th>219</th>\n",
       "      <td>Marketing</td>\n",
       "    </tr>\n",
       "    <tr>\n",
       "      <th>220</th>\n",
       "      <td>Null</td>\n",
       "    </tr>\n",
       "  </tbody>\n",
       "</table>\n",
       "<p>221 rows × 1 columns</p>\n",
       "</div>"
      ],
      "text/plain": [
       "           depto_solicitante\n",
       "0                 Engenharia\n",
       "1    Planejamento/orçamentos\n",
       "2                   Juridico\n",
       "3                 Engenharia\n",
       "4                   Produtos\n",
       "..                       ...\n",
       "216                     Null\n",
       "217               Engenharia\n",
       "218               Engenharia\n",
       "219                Marketing\n",
       "220                     Null\n",
       "\n",
       "[221 rows x 1 columns]"
      ]
     },
     "execution_count": 635,
     "metadata": {},
     "output_type": "execute_result"
    }
   ],
   "source": [
    "fix_missing_value(df, [\"depto_solicitante\"], \"Null\")"
   ]
  },
  {
   "cell_type": "markdown",
   "id": "71f9735e-608f-4610-8fa7-9281b2e0465c",
   "metadata": {},
   "source": [
    "## Tratamento da Variavel Dentro do prazo "
   ]
  },
  {
   "cell_type": "code",
   "execution_count": 675,
   "id": "fd4e78e6-4450-4e12-9a21-f09dc64cdf61",
   "metadata": {},
   "outputs": [
    {
     "data": {
      "text/plain": [
       "0"
      ]
     },
     "execution_count": 675,
     "metadata": {},
     "output_type": "execute_result"
    }
   ],
   "source": [
    "df.dentro_do_prazo.isna().sum()"
   ]
  },
  {
   "cell_type": "code",
   "execution_count": 661,
   "id": "51369a16-0781-4401-a622-2ab531a91d6f",
   "metadata": {},
   "outputs": [
    {
     "data": {
      "text/plain": [
       "dtype('O')"
      ]
     },
     "execution_count": 661,
     "metadata": {},
     "output_type": "execute_result"
    }
   ],
   "source": [
    "df.dentro_do_prazo.dtype"
   ]
  },
  {
   "cell_type": "code",
   "execution_count": 671,
   "id": "b4997e30-1a72-4ecc-a85f-b822031ad5a6",
   "metadata": {},
   "outputs": [
    {
     "data": {
      "text/plain": [
       "0    Sim\n",
       "1    NaN\n",
       "2    Sim\n",
       "3    Sim\n",
       "4    Sim\n",
       "Name: dentro_do_prazo, dtype: object"
      ]
     },
     "execution_count": 671,
     "metadata": {},
     "output_type": "execute_result"
    }
   ],
   "source": [
    "df.dentro_do_prazo.head()"
   ]
  },
  {
   "cell_type": "markdown",
   "id": "7e50f800-5241-4a97-90b2-3c143d6dc88c",
   "metadata": {},
   "source": [
    "### Iremos imputar valor NAN para cada linha em *\"dentro_do_prazo\"* com valores ausentes pois são variaveis String \"Categorica\" "
   ]
  },
  {
   "cell_type": "code",
   "execution_count": 673,
   "id": "d76a8181-c519-498e-96a9-d53b7d42347e",
   "metadata": {},
   "outputs": [
    {
     "name": "stdout",
     "output_type": "stream",
     "text": [
      "dentro_do_prazo    15\n",
      "dtype: int64 valores ausentes na coluna ['dentro_do_prazo'] foram substituídos por Null.\n"
     ]
    },
    {
     "data": {
      "text/html": [
       "<div>\n",
       "<style scoped>\n",
       "    .dataframe tbody tr th:only-of-type {\n",
       "        vertical-align: middle;\n",
       "    }\n",
       "\n",
       "    .dataframe tbody tr th {\n",
       "        vertical-align: top;\n",
       "    }\n",
       "\n",
       "    .dataframe thead th {\n",
       "        text-align: right;\n",
       "    }\n",
       "</style>\n",
       "<table border=\"1\" class=\"dataframe\">\n",
       "  <thead>\n",
       "    <tr style=\"text-align: right;\">\n",
       "      <th></th>\n",
       "      <th>dentro_do_prazo</th>\n",
       "    </tr>\n",
       "  </thead>\n",
       "  <tbody>\n",
       "    <tr>\n",
       "      <th>0</th>\n",
       "      <td>Sim</td>\n",
       "    </tr>\n",
       "    <tr>\n",
       "      <th>1</th>\n",
       "      <td>Null</td>\n",
       "    </tr>\n",
       "    <tr>\n",
       "      <th>2</th>\n",
       "      <td>Sim</td>\n",
       "    </tr>\n",
       "    <tr>\n",
       "      <th>3</th>\n",
       "      <td>Sim</td>\n",
       "    </tr>\n",
       "    <tr>\n",
       "      <th>4</th>\n",
       "      <td>Sim</td>\n",
       "    </tr>\n",
       "    <tr>\n",
       "      <th>...</th>\n",
       "      <td>...</td>\n",
       "    </tr>\n",
       "    <tr>\n",
       "      <th>216</th>\n",
       "      <td>Sim</td>\n",
       "    </tr>\n",
       "    <tr>\n",
       "      <th>217</th>\n",
       "      <td>Sim</td>\n",
       "    </tr>\n",
       "    <tr>\n",
       "      <th>218</th>\n",
       "      <td>Sim</td>\n",
       "    </tr>\n",
       "    <tr>\n",
       "      <th>219</th>\n",
       "      <td>Sim</td>\n",
       "    </tr>\n",
       "    <tr>\n",
       "      <th>220</th>\n",
       "      <td>Sim</td>\n",
       "    </tr>\n",
       "  </tbody>\n",
       "</table>\n",
       "<p>221 rows × 1 columns</p>\n",
       "</div>"
      ],
      "text/plain": [
       "    dentro_do_prazo\n",
       "0               Sim\n",
       "1              Null\n",
       "2               Sim\n",
       "3               Sim\n",
       "4               Sim\n",
       "..              ...\n",
       "216             Sim\n",
       "217             Sim\n",
       "218             Sim\n",
       "219             Sim\n",
       "220             Sim\n",
       "\n",
       "[221 rows x 1 columns]"
      ]
     },
     "execution_count": 673,
     "metadata": {},
     "output_type": "execute_result"
    }
   ],
   "source": [
    "fix_missing_value(df, [\"dentro_do_prazo\"], \"Null\")"
   ]
  },
  {
   "cell_type": "markdown",
   "id": "7beba2f8-59c1-467d-831a-299f23c0e7e7",
   "metadata": {},
   "source": [
    "## Tratamento da Variavel fora_do_prazo"
   ]
  },
  {
   "cell_type": "code",
   "execution_count": 686,
   "id": "81c1d464-b5f7-4c0f-9308-c819366f7d00",
   "metadata": {},
   "outputs": [
    {
     "data": {
      "text/plain": [
       "206"
      ]
     },
     "execution_count": 686,
     "metadata": {},
     "output_type": "execute_result"
    }
   ],
   "source": [
    "df.fora_do_prazo.isna().sum()"
   ]
  },
  {
   "cell_type": "code",
   "execution_count": 688,
   "id": "4492100d-c842-48ad-97cd-7d82a39e3999",
   "metadata": {},
   "outputs": [
    {
     "data": {
      "text/plain": [
       "93.21266968325791"
      ]
     },
     "execution_count": 688,
     "metadata": {},
     "output_type": "execute_result"
    }
   ],
   "source": [
    "# Calcula o percentual de valores ausentes na variável salary\n",
    "df.fora_do_prazo.isnull().mean()*100"
   ]
  },
  {
   "cell_type": "code",
   "execution_count": 690,
   "id": "56897312-ad3d-44e3-88fa-6e7a3f888f8b",
   "metadata": {},
   "outputs": [
    {
     "data": {
      "text/plain": [
       "dtype('O')"
      ]
     },
     "execution_count": 690,
     "metadata": {},
     "output_type": "execute_result"
    }
   ],
   "source": [
    "df.depto_solicitante.dtype"
   ]
  },
  {
   "cell_type": "code",
   "execution_count": null,
   "id": "7c440bad-06c1-4f70-93e1-770d01f42e18",
   "metadata": {},
   "outputs": [],
   "source": [
    "fix_missing_value(df, [\"fix_missing_value\"])"
   ]
  }
 ],
 "metadata": {
  "kernelspec": {
   "display_name": "Python [conda env:meu_ambiente]",
   "language": "python",
   "name": "conda-env-meu_ambiente-py"
  },
  "language_info": {
   "codemirror_mode": {
    "name": "ipython",
    "version": 3
   },
   "file_extension": ".py",
   "mimetype": "text/x-python",
   "name": "python",
   "nbconvert_exporter": "python",
   "pygments_lexer": "ipython3",
   "version": "3.8.20"
  }
 },
 "nbformat": 4,
 "nbformat_minor": 5
}
