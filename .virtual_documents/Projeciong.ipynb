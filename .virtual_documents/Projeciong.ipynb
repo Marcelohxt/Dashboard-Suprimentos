





# Imports
import math
import sys, os
import matplotlib.pyplot as plt
import numpy as np
import pandas as pd
import watermark 
import seaborn as sns
import warnings
warnings.filterwarnings("ignore") 


sys.path.append(os.path.abspath(os.path.join('modulos')))
from estrategia1 import *
from estrategia2 import *
from estrategia3 import *


# Created file the all libery the project
!pip freeze > requirements.txt


# Versões dos pacotes usados neste jupyter notebook
%reload_ext watermark
%watermark -a "Marcelo Henrique" --iversions





#AnaliseSupriSLA1Trimestre_025 = pd.read_excel("dados/AnaliseSupriSLA1Trimestre_025.xlsx")
#BasePorInsumo = pd.read_excel("dados/BasePorInsumo.xls")
#CustoPorNivel = pd.read_excel("dados/CustoPorNivel.xls")
#RelatorioDeSolicitacoes = pd.read_excel("dados/RelatorioDeSolicitacoes.xls")
#RelatorioMapaControlePedidosDanfes_entrada = pd.read_excel("dados/RelatorioMapaControlePedidosDanfes_entrada.xls")
#RelatorioSaldoDePedidos_fatDireto_obra_52010_VA =pd.read_excel("dados/RelatorioSaldoDePedidos_fatDireto_obra_52010_VA.xls")






# Aqui estamos chamando todos os nomes dos df para facilitar! 
# Filtrar variáveis que são DataFrames
dfs = {var: obj for var, obj in globals().items() if isinstance(obj, pd.DataFrame)}

# Exibir os nomes dos DataFrames carregados
print("DataFrames carregados:", list(dfs.keys()))


## Salvando o df original na variavel df! 
df = pd.read_csv("dados/AnaliseSupriSLA1Trimestre_025.csv", sep=";")  # Ou tente sep="," ou sep="\t"




df.isna().sum()


df.info()


df.describe()


df.columns = (df.columns
              .str.strip()  # Remove espaços extras no início e no fim
              .str.replace(r"[.\s]", "_", regex=True)  # Substitui pontos e espaços por "_"
              .str.lower()  # Converte para minúsculas
             )


df = df.applymap(lambda x: x.strip() if isinstance(x, str) else x)



df.columns





df.dt__aut.isnull().mean()*100


convert_to_datetime(df, ["dt__aut"])


df.dt__aut.value_counts()


df.dt__aut.mode()





df.dt__aut.isna().sum()


print(df.columns)





df.dt__atend_.isna().sum() # COntando Valores Ausentes 


df.dt__atend_.isnull().mean()*100  #Porcentagem de valores ausentes


df.dt__atend_.head(2)


df.dt__atend_.mode()





# Imputação com a moda
df.dt__atend_.fillna("03/02/2025", inplace = True)





df.sla_atendimentos.isna().sum()


df.sla_atendimentos.dtype


df.sla_atendimentos.head()





fix_missing_median(df,["sla_atendimentos"])


convert_to_datetime(df, ["sla_atendimentos"])





df.aditivo.isna().sum()


fix_missing_value(df, ["aditivo"], "Null")


convert_to_string(df, ["aditivo"])


df.aditivo.isna().sum()





df.depto_solicitante.isna().sum() # Calcula Valor de Numeros ausentes


# Calcula o percentual de valores ausentes na variável salary
df.depto_solicitante.isnull().mean()*100





df.depto_solicitante.dtype


df.depto_solicitante.head(5)





fix_missing_value(df, ["depto_solicitante"], "Null")





df.dentro_do_prazo.isna().sum()


df.dentro_do_prazo.dtype


df.dentro_do_prazo.head()





fix_missing_value(df, ["dentro_do_prazo"], "Null")





df.fora_do_prazo.isna().sum()


# Calcula o percentual de valores ausentes na variável salary
df.fora_do_prazo.isnull().mean()*100


df.fora_do_prazo.dtype


fix_missing_value(df, ["fora_do_prazo"], "Null")


df.fora_do_prazo.head(50)



