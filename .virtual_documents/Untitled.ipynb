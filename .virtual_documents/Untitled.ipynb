





# Imports
import pandas as pd
import numpy as np
import matplotlib.pyplot as plt
import seaborn as sns
import warnings
warnings.filterwarnings("ignore")


# Created file the all libery the project
!pip freeze > requirements.txt


# Versões dos pacotes usados neste jupyter notebook
%reload_ext watermark
%watermark -a "Marcelo Henrique" --iversions



